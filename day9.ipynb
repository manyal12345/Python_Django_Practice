{
 "cells": [
  {
   "cell_type": "code",
   "execution_count": null,
   "metadata": {},
   "outputs": [],
   "source": [
    "import json\n",
    "user_input = input(\"Do you want to register? (y/n) \")\n",
    "user_name = input(\"Enter your user name: \")\n",
    "user_password = input(\"Enter your password: \")\n",
    "\n",
    "def register(username, password):\n",
    "    user_data = {'username': username, 'password': password}\n",
    "    json_user_data = json.dumps(user_data)\n",
    "    f = open('user_db.txt', 'a')\n",
    "    f.write(json_user_data, '-')\n",
    "    f.close()\n",
    "\n",
    "def login(username, password):\n",
    "    f = f.open('user_db.txt', 'r')\n",
    "    content = f.read()\n",
    "    f.close()\n",
    "    list_data = content.split('-')\n",
    "    login = False\n",
    "    for i in list_data:\n",
    "        if i != '':\n",
    "            user_dict_data = json.loads(i)\n",
    "            if user_name == user_dict_data.get('username') and user_password == user_dict_data.get('password'):\n",
    "                print(\"Login Successful\")\n",
    "                login = True\n",
    "    if login == True:\n",
    "        print(\"Login Successful\")\n",
    "    else:\n",
    "        print(\"Invalid Login\")\n",
    "\n",
    "\n",
    "\n",
    "if user_input == 'register':\n",
    "    register(user_name, user_password)\n",
    "elif user_input == 'login':\n",
    "    login(user_name, user_password)\n",
    "else:\n",
    "    print(\"Invalid Input\")\n"
   ]
  },
  {
   "cell_type": "code",
   "execution_count": 13,
   "metadata": {},
   "outputs": [
    {
     "name": "stdout",
     "output_type": "stream",
     "text": [
      "Login successfull!\n"
     ]
    }
   ],
   "source": [
    "# Login and register\n",
    "# Requirements\n",
    "# Ask the user to login or register\n",
    "# If login ask username and password and if it is a valid username and password in file then print login succesffull\n",
    "# Else if register ask for username and password and store it in a file\n",
    "import json\n",
    "\n",
    "\n",
    "user_input = input('Do you want to register or login? ')\n",
    "user_username = input('Enter your username : ')\n",
    "user_password = input('Enter your password : ')\n",
    "\n",
    "def register(username, password):\n",
    "    user_data = {'username':username,'password':password}\n",
    "    json_user_data = json.dumps(user_data)\n",
    "    f = open('user_db.txt','a')\n",
    "    f.write(json_user_data + '-')\n",
    "    f.close()\n",
    "\n",
    "def login(username,password):\n",
    "    f = open('user_db.txt','r')\n",
    "    content = f.read()\n",
    "    f.close()\n",
    "    list_data = content.split('-')\n",
    "    login = False\n",
    "    for i in list_data:\n",
    "        if i != '':\n",
    "            user_dict_data = json.loads(i)\n",
    "            if username == user_dict_data.get('username') and password == user_dict_data.get('password'):\n",
    "                login = True\n",
    "\n",
    "    if login == True:\n",
    "        print('Login successfull!')\n",
    "    else:\n",
    "        print('Invalid login!')\n",
    "\n",
    "\n",
    "\n",
    "if user_input == 'register':\n",
    "    register(user_username,user_password)\n",
    "elif user_input == 'login':\n",
    "    login(user_username,user_password)"
   ]
  }
 ],
 "metadata": {
  "kernelspec": {
   "display_name": "Python 3",
   "language": "python",
   "name": "python3"
  },
  "language_info": {
   "codemirror_mode": {
    "name": "ipython",
    "version": 3
   },
   "file_extension": ".py",
   "mimetype": "text/x-python",
   "name": "python",
   "nbconvert_exporter": "python",
   "pygments_lexer": "ipython3",
   "version": "3.12.0"
  }
 },
 "nbformat": 4,
 "nbformat_minor": 2
}
