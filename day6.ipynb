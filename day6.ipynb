{
 "cells": [
  {
   "cell_type": "markdown",
   "metadata": {},
   "source": [
    "For Loop"
   ]
  },
  {
   "cell_type": "code",
   "execution_count": 5,
   "metadata": {},
   "outputs": [
    {
     "name": "stdout",
     "output_type": "stream",
     "text": [
      "1\n",
      "2\n",
      "3\n",
      "4\n",
      "3.5\n",
      "[1, 2, 3]\n",
      "End Loop\n"
     ]
    }
   ],
   "source": [
    "a = [1,2,3,4,\"Hello\",3.5,[1,2,3]]\n",
    "\n",
    "for i in a:\n",
    "    if i == \"Hello\":\n",
    "        continue\n",
    "    print(i)\n",
    "print(\"End Loop\")\n",
    "\n",
    "\n"
   ]
  },
  {
   "cell_type": "code",
   "execution_count": 6,
   "metadata": {},
   "outputs": [
    {
     "name": "stdout",
     "output_type": "stream",
     "text": [
      "[1, 2, 3, 4]\n",
      "1\n",
      "2\n",
      "3\n",
      "4\n",
      "[5, 6, 7, 8]\n",
      "5\n",
      "6\n",
      "7\n",
      "8\n",
      "[9, 10, 11, 12]\n",
      "9\n",
      "10\n",
      "11\n",
      "12\n"
     ]
    }
   ],
   "source": [
    "# Nested Loop\n",
    "\n",
    "a = [[1,2,3,4], [5,6,7,8], [9,10,11,12]]\n",
    "\n",
    "for i in a:\n",
    "    print(i)\n",
    "    for j in i:\n",
    "        print(j)"
   ]
  },
  {
   "cell_type": "code",
   "execution_count": 26,
   "metadata": {},
   "outputs": [
    {
     "name": "stdout",
     "output_type": "stream",
     "text": [
      "{1, 2, 3.5, 3, 'Hello', (1, 2, 3)}\n",
      "Hello\n"
     ]
    }
   ],
   "source": [
    "# Data types and indexing\n",
    "\n",
    "a = {1,2,3,\"Hello\", 3.5, (1,2,3)}\n",
    "\n",
    "print(a)\n",
    "\n",
    "b = list(a)\n",
    "\n",
    "print(b[4])\n"
   ]
  },
  {
   "cell_type": "code",
   "execution_count": 30,
   "metadata": {},
   "outputs": [
    {
     "name": "stdout",
     "output_type": "stream",
     "text": [
      "[2, 3, 4, 5]\n",
      "[1, 3, 5]\n"
     ]
    }
   ],
   "source": [
    "#Slicing\n",
    "\n",
    "a =[1,2,3,4,5,6,7, \"Hello\"]\n",
    "\n",
    "print(a[1:5])\n",
    "print(a[0:5:2])"
   ]
  },
  {
   "cell_type": "code",
   "execution_count": 31,
   "metadata": {},
   "outputs": [
    {
     "name": "stdout",
     "output_type": "stream",
     "text": [
      "HELLO\n"
     ]
    }
   ],
   "source": [
    "# data type method\n",
    "\n",
    "a = 'hello'\n",
    "b = a.upper()\n",
    "print(b)"
   ]
  },
  {
   "cell_type": "code",
   "execution_count": 33,
   "metadata": {},
   "outputs": [
    {
     "name": "stdout",
     "output_type": "stream",
     "text": [
      "[1, 2, 3, 4, 5, 6, 7, 'Hello']\n"
     ]
    }
   ],
   "source": [
    "# List method\n",
    "\n",
    "a = [1,2,3,4,5,6,7]\n",
    "\n",
    "a.append(\"Hello\")\n",
    "\n",
    "print(a)\n",
    "\n"
   ]
  },
  {
   "cell_type": "markdown",
   "metadata": {},
   "source": [
    "Method\tDescription\n",
    "add()\tAdds an element to the set\n",
    "clear()\tRemoves all the elements from the set\n",
    "copy()\tReturns a copy of the set\n",
    "difference()\tReturns a set containing the difference between two or more sets\n",
    "difference_update()\tRemoves the items in this set that are also included in another, specified set\n",
    "discard()\tRemove the specified item\n",
    "intersection()\tReturns a set, that is the intersection of two other sets\n",
    "intersection_update()\tRemoves the items in this set that are not present in other, specified set(s)\n",
    "isdisjoint()\tReturns whether two sets have a intersection or not\n",
    "issubset()\tReturns whether another set contains this set or not\n",
    "issuperset()\tReturns whether this set contains another set or not\n",
    "pop()\tRemoves an element from the set\n",
    "remove()\tRemoves the specified element\n",
    "symmetric_difference()\tReturns a set with the symmetric differences of two sets\n",
    "symmetric_difference_update()\tinserts the symmetric differences from this set and another\n",
    "union()\tReturn a set containing the union of sets\n",
    "update()\tUpdate the set with the union of this set and others"
   ]
  },
  {
   "cell_type": "code",
   "execution_count": 34,
   "metadata": {},
   "outputs": [
    {
     "name": "stdout",
     "output_type": "stream",
     "text": [
      "{1, 2, 3, 4, 5, 6, 7, 8, 9}\n",
      "{3, 4, 5, 6, 7}\n",
      "{1, 2}\n"
     ]
    }
   ],
   "source": [
    "# Set Data type and methods\n",
    "a = {1,2,3,4,5,6,7}\n",
    "b = {3,4,5,6,7,8,9}\n",
    "\n",
    "print(a.union(b))\n",
    "print(a.intersection(b))\n",
    "print(a.difference(b))"
   ]
  },
  {
   "cell_type": "markdown",
   "metadata": {},
   "source": [
    "Tuple Methods\n",
    "Python has two built-in methods that you can use on tuples.\n",
    "\n",
    "Method\tDescription\n",
    "count()\tReturns the number of times a specified value occurs in a tuple\n",
    "index()\tSearches the tuple for a specified value and returns the position of where it was found\n"
   ]
  },
  {
   "cell_type": "code",
   "execution_count": 36,
   "metadata": {},
   "outputs": [
    {
     "name": "stdout",
     "output_type": "stream",
     "text": [
      "('a', 'b', 'c', 1, 2, 3)\n",
      "('apple', 'banana', 'cherry', 'apple', 'banana', 'cherry')\n"
     ]
    }
   ],
   "source": [
    "tuple1 = (\"a\", \"b\" , \"c\")\n",
    "tuple2 = (1, 2, 3)\n",
    "\n",
    "tuple3 = tuple1 + tuple2\n",
    "print(tuple3)\n",
    "\n",
    "fruits = (\"apple\", \"banana\", \"cherry\")\n",
    "mytuple = fruits * 2\n",
    "\n",
    "print(mytuple)"
   ]
  },
  {
   "cell_type": "markdown",
   "metadata": {},
   "source": [
    "Python Dictionary Methods\n",
    "Dictionary Methods\n",
    "Python has a set of built-in methods that you can use on dictionaries.\n",
    "\n",
    "Method\tDescription\n",
    "clear()\tRemoves all the elements from the dictionary\n",
    "copy()\tReturns a copy of the dictionary\n",
    "fromkeys()\tReturns a dictionary with the specified keys and value\n",
    "get()\tReturns the value of the specified key\n",
    "items()\tReturns a list containing a tuple for each key value pair\n",
    "keys()\tReturns a list containing the dictionary's keys\n",
    "pop()\tRemoves the element with the specified key\n",
    "popitem()\tRemoves the last inserted key-value pair\n",
    "setdefault()\tReturns the value of the specified key. If the key does not exist: insert the key, with the specified value\n",
    "update()\tUpdates the dictionary with the specified key-value pairs\n",
    "values()\tReturns a list of all the values in the dictionary"
   ]
  },
  {
   "cell_type": "code",
   "execution_count": 38,
   "metadata": {},
   "outputs": [
    {
     "name": "stdout",
     "output_type": "stream",
     "text": [
      "{'child1': {'name': 'Emil', 'year': 2004}, 'child2': {'name': 'Tobias', 'year': 2007}, 'child3': {'name': 'Linus', 'year': 2011}}\n"
     ]
    }
   ],
   "source": [
    "#Create three dictionaries, then create one dictionary that will contain the other three dictionaries:\n",
    "\n",
    "child1 = {\n",
    "  \"name\" : \"Emil\",\n",
    "  \"year\" : 2004\n",
    "}\n",
    "child2 = {\n",
    "  \"name\" : \"Tobias\",\n",
    "  \"year\" : 2007\n",
    "}\n",
    "child3 = {\n",
    "  \"name\" : \"Linus\",\n",
    "  \"year\" : 2011\n",
    "}\n",
    "\n",
    "myfamily = {\n",
    "  \"child1\" : child1,\n",
    "  \"child2\" : child2,\n",
    "  \"child3\" : child3\n",
    "}\n",
    "\n",
    "print(myfamily)"
   ]
  }
 ],
 "metadata": {
  "kernelspec": {
   "display_name": "Python 3",
   "language": "python",
   "name": "python3"
  },
  "language_info": {
   "codemirror_mode": {
    "name": "ipython",
    "version": 3
   },
   "file_extension": ".py",
   "mimetype": "text/x-python",
   "name": "python",
   "nbconvert_exporter": "python",
   "pygments_lexer": "ipython3",
   "version": "3.12.0"
  }
 },
 "nbformat": 4,
 "nbformat_minor": 2
}
