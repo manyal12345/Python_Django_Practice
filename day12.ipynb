{
 "cells": [
  {
   "cell_type": "markdown",
   "metadata": {},
   "source": [
    "OOP\n",
    "Class"
   ]
  },
  {
   "cell_type": "code",
   "execution_count": 5,
   "metadata": {},
   "outputs": [
    {
     "name": "stdout",
     "output_type": "stream",
     "text": [
      "Suzuki 45000 red 5246\n",
      "Honda 45000 red\n"
     ]
    }
   ],
   "source": [
    "class Car():\n",
    "    name = \"Honda\"\n",
    "    price =\"45000\"\n",
    "    color =\"red\"\n",
    "\n",
    "car1 = Car()\n",
    "car1.name = \"Suzuki\"\n",
    "car1.model = \"5246\"\n",
    "car2 = Car()\n",
    "print(car1.name, car1.price, car1.color, car1.model)\n",
    "print(car2.name, car2.price, car2.color)\n"
   ]
  },
  {
   "cell_type": "code",
   "execution_count": null,
   "metadata": {},
   "outputs": [],
   "source": [
    "# Methods in class\n",
    "class Car():\n",
    "    name = \"Honda\"\n",
    "    price =\"45000\"\n",
    "    color =\"red\"\n"
   ]
  },
  {
   "cell_type": "code",
   "execution_count": 12,
   "metadata": {},
   "outputs": [
    {
     "name": "stdout",
     "output_type": "stream",
     "text": [
      "Suzuki 45000 120\n",
      "Suzuki\n"
     ]
    }
   ],
   "source": [
    "#Constructor\n",
    "class Car():\n",
    "    def __init__(self, name, price, max_speed):\n",
    "        self.name = name\n",
    "        self.price = price\n",
    "        self.max_speed = max_speed\n",
    "\n",
    "    def __str__(self):\n",
    "        return self.name\n",
    "\n",
    "    def get_name(self):\n",
    "        print(self.name)\n",
    "\n",
    "car1 = Car(\"Suzuki\", 45000, 120)\n",
    "print(car1.name, car1.price, car1.max_speed)\n",
    "\n",
    "# print(car1.__dir__())\n",
    "print(car1)"
   ]
  }
 ],
 "metadata": {
  "kernelspec": {
   "display_name": "Python 3",
   "language": "python",
   "name": "python3"
  },
  "language_info": {
   "codemirror_mode": {
    "name": "ipython",
    "version": 3
   },
   "file_extension": ".py",
   "mimetype": "text/x-python",
   "name": "python",
   "nbconvert_exporter": "python",
   "pygments_lexer": "ipython3",
   "version": "3.12.0"
  }
 },
 "nbformat": 4,
 "nbformat_minor": 2
}
