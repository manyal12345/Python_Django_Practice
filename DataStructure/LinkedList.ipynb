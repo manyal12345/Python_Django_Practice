{
 "cells": [
  {
   "cell_type": "markdown",
   "metadata": {},
   "source": [
    "What is a Linked List?\n",
    "Linked Lists are a data structure that store data in the form of a chain. The structure of a linked list is such that each piece of data has a connection to the next one (and sometimes the previous data as well). Each element in a linked list is called a node.\n",
    "\n",
    "You can think of it as an actual chain, where each ring or node is connected.\n",
    "Something like this\n",
    "\n",
    "A-chain\n",
    "Like every other data structure, linked lists have their pros and cons:\n",
    "\n",
    "Advantages of Linked Lists:\n",
    "Because of the chain-like system of linked lists, you can add and remove elements quickly. This also doesn't require reorganizing the data structure unlike arrays or lists. Linear data structures are often easier to implement using linked lists.\n",
    "Linked lists also don't require a fixed size or initial size due to their chainlike structure.\n",
    "Disadvantages of a Linked Lists:\n",
    "More memory is required when compared to an array. This is because you need a pointer (which takes up its own memory) to point you to the next element.\n",
    "Search operations on a linked list are very slow. Unlike an array, you don't have the option of random access.\n",
    "When Should You Use a Linked List?\n",
    "You should use a linked list over an array when:\n",
    "\n",
    "You don't know how many items will be in the list (that is one of the advantages - ease of adding items).\n",
    "You don't need random access to any elements (unlike an array, you cannot access an element at a particular index in a linked list).\n",
    "You want to be able to insert items in the middle of the list.\n",
    "You need constant time insertion/deletion from the list (unlike an array, you don't have to shift every other item in the list first)."
   ]
  },
  {
   "cell_type": "code",
   "execution_count": null,
   "metadata": {},
   "outputs": [],
   "source": [
    "class Node:\n",
    "\tdef __init__(self,value):\n",
    "\t\tself.value = value\n",
    "\t\tself.next = None\n",
    "\n",
    "class LinkedList:\n",
    "\tdef __init__(self,head=None):\n",
    "\t\tself.head = head\n",
    "\t\tdef append(self, new_node):\n",
    "                  current = self.head\n",
    "                if current:\n",
    "                    while current.next:\n",
    "                        current = current.next\n",
    "                        current.next = new_node\n",
    "                else:\n",
    "                    self.head = new_node"
   ]
  }
 ],
 "metadata": {
  "language_info": {
   "name": "python"
  }
 },
 "nbformat": 4,
 "nbformat_minor": 2
}
