{
 "cells": [
  {
   "cell_type": "code",
   "execution_count": 1,
   "metadata": {},
   "outputs": [
    {
     "name": "stdout",
     "output_type": "stream",
     "text": [
      "10 pushed to stack \n",
      "20 pushed to stack \n",
      "30 pushed to stack \n",
      "30 popped from stack\n"
     ]
    }
   ],
   "source": [
    "# Python program for implementation of stack\n",
    "\n",
    "# import maxsize from sys module\n",
    "# Used to return -infinite when stack is empty\n",
    "from sys import maxsize\n",
    "\n",
    "# Function to create a stack. It initializes size of stack as 0\n",
    "def createStack():\n",
    "\tstack = []\n",
    "\treturn stack\n",
    "\n",
    "# Stack is empty when stack size is 0\n",
    "def isEmpty(stack):\n",
    "\treturn len(stack) == 0\n",
    "\n",
    "# Function to add an item to stack. It increases size by 1\n",
    "def push(stack, item):\n",
    "\tstack.append(item)\n",
    "\tprint(item + \" pushed to stack \")\n",
    "\n",
    "# Function to remove an item from stack. It decreases size by 1\n",
    "def pop(stack):\n",
    "\tif (isEmpty(stack)):\n",
    "\t\treturn str(-maxsize -1) # return minus infinite\n",
    "\n",
    "\treturn stack.pop()\n",
    "\n",
    "# Function to return the top from stack without removing it\n",
    "def peek(stack):\n",
    "\tif (isEmpty(stack)):\n",
    "\t\treturn str(-maxsize -1) # return minus infinite\n",
    "\treturn stack[len(stack) - 1]\n",
    "\n",
    "# Driver program to test above functions\n",
    "stack = createStack()\n",
    "push(stack, str(10))\n",
    "push(stack, str(20))\n",
    "push(stack, str(30))\n",
    "print(pop(stack) + \" popped from stack\")\n"
   ]
  },
  {
   "cell_type": "code",
   "execution_count": 2,
   "metadata": {},
   "outputs": [
    {
     "name": "stdout",
     "output_type": "stream",
     "text": [
      " 10 pushed to stack\n",
      " 20 pushed to stack\n",
      " 30 pushed to stack\n",
      " 30 popped from stack\n",
      "Top element is  20 \n"
     ]
    }
   ],
   "source": [
    "# Python program for linked list implementation of stack\n",
    "\n",
    "# Class to represent a node\n",
    "\n",
    "\n",
    "class StackNode:\n",
    "\n",
    "\t# Constructor to initialize a node\n",
    "\tdef __init__(self, data):\n",
    "\t\tself.data = data\n",
    "\t\tself.next = None\n",
    "\n",
    "\n",
    "class Stack:\n",
    "\n",
    "\t# Constructor to initialize the root of linked list\n",
    "\tdef __init__(self):\n",
    "\t\tself.root = None\n",
    "\n",
    "\tdef isEmpty(self):\n",
    "\t\treturn True if self.root is None else False\n",
    "\n",
    "\tdef push(self, data):\n",
    "\t\tnewNode = StackNode(data)\n",
    "\t\tnewNode.next = self.root\n",
    "\t\tself.root = newNode\n",
    "\t\tprint (\"% d pushed to stack\" % (data))\n",
    "\n",
    "\tdef pop(self):\n",
    "\t\tif (self.isEmpty()):\n",
    "\t\t\treturn float(\"-inf\")\n",
    "\t\ttemp = self.root\n",
    "\t\tself.root = self.root.next\n",
    "\t\tpopped = temp.data\n",
    "\t\treturn popped\n",
    "\n",
    "\tdef peek(self):\n",
    "\t\tif self.isEmpty():\n",
    "\t\t\treturn float(\"-inf\")\n",
    "\t\treturn self.root.data\n",
    "\n",
    "\n",
    "# Driver code\n",
    "stack = Stack()\n",
    "stack.push(10)\n",
    "stack.push(20)\n",
    "stack.push(30)\n",
    "\n",
    "print (\"% d popped from stack\" % (stack.pop()))\n",
    "print (\"Top element is % d \" % (stack.peek()))\n",
    "\n",
    "# This code is contributed by Nikhil Kumar Singh(nickzuck_007)\n"
   ]
  }
 ],
 "metadata": {
  "kernelspec": {
   "display_name": "Python 3",
   "language": "python",
   "name": "python3"
  },
  "language_info": {
   "codemirror_mode": {
    "name": "ipython",
    "version": 3
   },
   "file_extension": ".py",
   "mimetype": "text/x-python",
   "name": "python",
   "nbconvert_exporter": "python",
   "pygments_lexer": "ipython3",
   "version": "3.12.0"
  }
 },
 "nbformat": 4,
 "nbformat_minor": 2
}
