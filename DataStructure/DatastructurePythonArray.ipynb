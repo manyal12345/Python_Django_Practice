{
 "cells": [
  {
   "cell_type": "code",
   "execution_count": null,
   "metadata": {},
   "outputs": [],
   "source": [
    "Data Structures in Python\n",
    "\n",
    "1. Array\n",
    "Arrays:\n",
    "Definition: An array is a collection of elements, each identified by an index or a key.\n",
    "\n",
    "Properties:\n",
    "\n",
    "Elements are stored in contiguous memory locations.\n",
    "Accessing elements by index is fast (O(1)).\n",
    "\n",
    "Arrays are versatile and widely used. However, keep in mind that their size is fixed once they are created, and inserting or deleting elements may require shifting other elements, making these operations less efficient compared to some other data structures. If dynamic resizing is a concern, you might consider using a dynamic array or a linked list instead."
   ]
  },
  {
   "cell_type": "code",
   "execution_count": 1,
   "metadata": {},
   "outputs": [
    {
     "name": "stdout",
     "output_type": "stream",
     "text": [
      "Element at index 0: 1\n",
      "Element at index 2: 3\n",
      "Updated array: [1, 10, 3, 4, 5]\n",
      "Length of the array: 5\n",
      "Elements of the array:\n",
      "1\n",
      "10\n",
      "3\n",
      "4\n",
      "5\n"
     ]
    }
   ],
   "source": [
    "# Creating an array in Python\n",
    "my_array = [1, 2, 3, 4, 5]\n",
    "\n",
    "# Accessing elements by index\n",
    "print(\"Element at index 0:\", my_array[0])  # Output: 1\n",
    "print(\"Element at index 2:\", my_array[2])  # Output: 3\n",
    "\n",
    "# Updating an element\n",
    "my_array[1] = 10\n",
    "print(\"Updated array:\", my_array)  # Output: [1, 10, 3, 4, 5]\n",
    "\n",
    "# Length of the array\n",
    "print(\"Length of the array:\", len(my_array))  # Output: 5\n",
    "\n",
    "# Iterating through the array\n",
    "print(\"Elements of the array:\")\n",
    "for element in my_array:\n",
    "    print(element)\n",
    "# Output:\n",
    "# 1\n",
    "# 10\n",
    "# 3\n",
    "# 4\n",
    "# 5\n"
   ]
  },
  {
   "cell_type": "code",
   "execution_count": 2,
   "metadata": {},
   "outputs": [
    {
     "name": "stdout",
     "output_type": "stream",
     "text": [
      "The two numbers in the array that add up to 9 are (2, 0) and 7.\n"
     ]
    }
   ],
   "source": [
    "def two_sum(nums, target):\n",
    "    \"\"\"\n",
    "    Find two numbers in the array that add up to the target sum.\n",
    "\n",
    "    Parameters:\n",
    "    - nums: List of integers\n",
    "    - target: Target sum\n",
    "\n",
    "    Returns:\n",
    "    - Tuple of two numbers or None if no such pair is found\n",
    "    \"\"\"\n",
    "    num_dict = {}  # Dictionary to store the complement of each number\n",
    "\n",
    "    for i, num in enumerate(nums):\n",
    "        complement = target - num\n",
    "\n",
    "        # Check if the complement exists in the dictionary\n",
    "        if complement in num_dict:\n",
    "            return num_dict[complement], num  # Return the pair\n",
    "\n",
    "        # If not, add the current number and its index to the dictionary\n",
    "        num_dict[num] = num, i\n",
    "\n",
    "    return None  # No pair found\n",
    "\n",
    "# Example usage:\n",
    "my_array = [2, 7, 11, 15]\n",
    "target_sum = 9\n",
    "\n",
    "result = two_sum(my_array, target_sum)\n",
    "\n",
    "if result:\n",
    "    num1, num2 = result\n",
    "    print(f\"The two numbers in the array that add up to {target_sum} are {num1} and {num2}.\")\n",
    "else:\n",
    "    print(f\"No pair found in the array that adds up to {target_sum}.\")\n"
   ]
  },
  {
   "cell_type": "code",
   "execution_count": null,
   "metadata": {},
   "outputs": [],
   "source": [
    "Find a peak element which is not smaller than its neighbours\n",
    "\n",
    "Given an array arr of n elements that is first strictly increasing and then maybe strictly decreasing, find the maximum element in the array.\n",
    "Note: If the array is increasing then just print the last element will be the maximum value.\n",
    "\n",
    "Example:\n",
    "\n",
    "Input: array[]= {5, 10, 20, 15}\n",
    "Output: 20\n",
    "Explanation: The element 20 has neighbors 10 and 15, both of them are less than 20.\n",
    "\n",
    "Input: array[] = {10, 20, 15, 2, 23, 90, 67}\n",
    "Output: 20 or 90\n",
    "Explanation: The element 20 has neighbors 10 and 15, both of them are less than 20, similarly 90 has neighbors 23 and 67.\n",
    "\n",
    "The following corner cases give a better idea about the problem.\n",
    "\n",
    "If the input array is sorted in a strictly increasing order, the last element is always a peak element. For example, 50 is peak element in {10, 20, 30, 40, 50}.\n",
    "If the input array is sorted in a strictly decreasing order, the first element is always a peak element. 100 is the peak element in {100, 80, 60, 50, 20}.\n",
    "If all elements of the input array are the same, every element is a peak element."
   ]
  },
  {
   "cell_type": "code",
   "execution_count": 3,
   "metadata": {},
   "outputs": [
    {
     "name": "stdout",
     "output_type": "stream",
     "text": [
      "Index of a peak point is 2\n"
     ]
    }
   ],
   "source": [
    "# FInd a peak element which is not smaller than its neighbours\n",
    "\n",
    "def findPeak(arry,n):\n",
    "    if (n == 1):\n",
    "        return 0\n",
    "    if(arr[0] > arr[1]):\n",
    "        return 0\n",
    "    if(arr[n-1] > arr[n-2]):\n",
    "        return n-1\n",
    "\n",
    "    # Check for every other elements\n",
    "    for i in range(1, n-1):\n",
    "\n",
    "       # check if the neighbors are smaller\n",
    "        if(arr[i] > arr[i-1] and arr[i] > arr[i+1]):\n",
    "            return i\n",
    "    return -1\n",
    "\n",
    "# Driver code.\n",
    "arr = [ 1, 3, 20, 4, 1, 0 ]\n",
    "n = len(arr)\n",
    "print(\"Index of a peak point is\", findPeak(arr, n))"
   ]
  },
  {
   "cell_type": "markdown",
   "metadata": {},
   "source": [
    "Find a peak element using recursive Binary Search\n",
    "Below is the idea to solve the problem.\n",
    "\n",
    "Using Binary Search, check if the middle element is the peak element or not. If the middle element is not the peak element, then check if the element on the right side is greater than the middle element then there is always a peak element on the right side. If the element on the left side is greater than the middle element then there is always a peak element on the left side. \n",
    "\n",
    " \n",
    "Follow the steps below to implement the idea:\n",
    "\n",
    "Create two variables, l and r, initialize l = 0 and r = n-1\n",
    "Recursively perform the below steps till l <= r, i.e. lowerbound is less than the upperbound\n",
    "Check if the mid value or index mid = low + (high – low) / 2,  is the peak element or not, if yes then print the element and terminate.\n",
    "Else if the element on the left side of the middle element is greater then check for peak element on the left side, i.e. update r = mid – 1\n",
    "Else if the element on the right side of the middle element is greater then check for peak element on the right side, i.e. update l = mid + 1   \n",
    "Below is the implementation of the above approach"
   ]
  },
  {
   "cell_type": "code",
   "execution_count": 4,
   "metadata": {},
   "outputs": [
    {
     "name": "stdout",
     "output_type": "stream",
     "text": [
      "Index of a peak point is 2\n"
     ]
    }
   ],
   "source": [
    "\n",
    "# A binary search based function\n",
    "# that returns index of a peak element\n",
    "\n",
    "\n",
    "def findPeakUtil(arr, low, high, n):\n",
    "\n",
    "    # Find index of middle element\n",
    "    # low + (high - low) / 2\n",
    "    mid = low + (high - low)/2\n",
    "    mid = int(mid)\n",
    "\n",
    "    # Compare middle element with its\n",
    "    # neighbours (if neighbours exist)\n",
    "    if ((mid == 0 or arr[mid - 1] <= arr[mid]) and\n",
    "        (mid == n - 1 or arr[mid + 1] <= arr[mid])):\n",
    "        return mid\n",
    "\n",
    "\n",
    "    # If middle element is not peak and\n",
    "    # its left neighbour is greater\n",
    "    # than it, then left half must\n",
    "    # have a peak element\n",
    "    elif (mid > 0 and arr[mid - 1] > arr[mid]):\n",
    "        return findPeakUtil(arr, low, (mid - 1), n)\n",
    "\n",
    "    # If middle element is not peak and\n",
    "    # its right neighbour is greater\n",
    "    # than it, then right half must\n",
    "    # have a peak element\n",
    "    else:\n",
    "        return findPeakUtil(arr, (mid + 1), high, n)\n",
    "\n",
    "\n",
    "# A wrapper over recursive\n",
    "# function findPeakUtil()\n",
    "def findPeak(arr, n):\n",
    "\n",
    "    return findPeakUtil(arr, 0, n - 1, n)\n",
    "\n",
    "\n",
    "# Driver code\n",
    "arr = [1, 3, 20, 4, 1, 0]\n",
    "n = len(arr)\n",
    "print(\"Index of a peak point is\", findPeak(arr, n))\n",
    "\n",
    "# This code is contributed by\n",
    "# Smitha Dinesh Semwal"
   ]
  },
  {
   "cell_type": "markdown",
   "metadata": {},
   "source": [
    "Find a peak element using iterative Binary search\n",
    "Below is the idea to solve the problem.\n",
    "\n",
    "Using Binary Search, check if the middle element is the peak element or not. If the middle element the peak element terminate the while loop and print middle element, then check if the element on the right side is greater than the middle element then there is always a peak element on the right side. If the element on the left side is greater than the middle element then there is always a peak element on the left side. \n",
    "\n",
    "Follow the steps below to implement the idea:\n",
    "\n",
    "Create two variables, l and r, initialize l = 0 and r = n-1\n",
    "Run a while loop till l <= r, lowerbound is less than the upperbound\n",
    "Check if the mid value or index mid = low + (high – low) / 2, is the peak element or not, if yes then print the element and terminate.\n",
    "Else if the element on the left side of the middle element is greater then check for peak element on the left side, i.e. update r = mid – 1\n",
    "Else if the element on the right side of the middle element is greater then check for peak element on the right side, i.e. update l = mid + 1   \n",
    "The below-given code is the iterative version of the above explained and demonstrated recursive based divide and conquer technique."
   ]
  },
  {
   "cell_type": "code",
   "execution_count": 5,
   "metadata": {},
   "outputs": [
    {
     "name": "stdout",
     "output_type": "stream",
     "text": [
      "Index of a peak point is 2\n"
     ]
    }
   ],
   "source": [
    "# A binary search based function\n",
    "# that returns index of a peak element\n",
    "def findPeak(arr, n):\n",
    "\n",
    "    l = 0\n",
    "    r = n-1\n",
    "\n",
    "    while(l <= r):\n",
    "\n",
    "        # finding mid by binary right shifting.\n",
    "        mid = (l + r) >> 1\n",
    "\n",
    "        # first case if mid is the answer\n",
    "        if((mid == 0 or arr[mid - 1] <= arr[mid]) and (mid == n - 1 or arr[mid + 1] <= arr[mid])):\n",
    "            break\n",
    "\n",
    "        # move the right pointer\n",
    "        if(mid > 0 and arr[mid - 1] > arr[mid]):\n",
    "            r = mid - 1\n",
    "\n",
    "        # move the left pointer\n",
    "        else:\n",
    "            l = mid + 1\n",
    "\n",
    "    return mid\n",
    "\n",
    "\n",
    "# Driver Code\n",
    "arr = [1, 3, 20, 4, 1, 0]\n",
    "n = len(arr)\n",
    "print(f\"Index of a peak point is {findPeak(arr, n)}\")"
   ]
  },
  {
   "cell_type": "markdown",
   "metadata": {},
   "source": [
    "Program to find the minimum (or maximum) element of an array"
   ]
  },
  {
   "cell_type": "code",
   "execution_count": 6,
   "metadata": {},
   "outputs": [
    {
     "name": "stdout",
     "output_type": "stream",
     "text": [
      "min-1 max-423\n"
     ]
    }
   ],
   "source": [
    "import sys\n",
    "\n",
    "# Define an array\n",
    "a = [1, 423, 6, 46, 34, 23, 13, 53, 4]\n",
    "\n",
    "# Sort the array using the built-in sorted() function\n",
    "a_sorted = sorted(a)\n",
    "\n",
    "# Find the minimum and maximum values\n",
    "min_value = a_sorted[0]\n",
    "max_value = a_sorted[-1]\n",
    "\n",
    "# Print the results\n",
    "print(f\"min-{min_value} max-{max_value}\")"
   ]
  },
  {
   "cell_type": "code",
   "execution_count": null,
   "metadata": {},
   "outputs": [],
   "source": [
    "# Python3 program to find minimum\n",
    "# (or maximum) element in an array\n",
    "\n",
    "# Minimum Function\n",
    "def getMin(arr, n):\n",
    "    res = arr[0]\n",
    "    for i in range(1,n):\n",
    "        res = min(res, arr[i])\n",
    "    return res\n",
    "\n",
    "# Maximum Function\n",
    "def getMax(arr, n):\n",
    "    res = arr[0]\n",
    "    for i in range(1,n):\n",
    "        res = max(res, arr[i])\n",
    "    return res\n",
    "\n",
    "# Driver Program\n",
    "arr = [12, 1234, 45, 67, 1]\n",
    "n = len(arr)\n",
    "print (\"Minimum element of array:\", getMin(arr, n))\n",
    "print (\"Maximum element of array:\", getMax(arr, n))"
   ]
  },
  {
   "cell_type": "markdown",
   "metadata": {},
   "source": [
    "Write a program to reverse an array or string"
   ]
  },
  {
   "cell_type": "code",
   "execution_count": 1,
   "metadata": {},
   "outputs": [
    {
     "name": "stdout",
     "output_type": "stream",
     "text": [
      "[1, 2, 3, 4, 5, 6]\n",
      "Reversed list is\n",
      "[6, 5, 4, 3, 2, 1]\n"
     ]
    }
   ],
   "source": [
    "# Iterative python program to reverse an array\n",
    "\n",
    "# Function to reverse A[] from start to end\n",
    "def reverseList(A, start, end):\n",
    "\twhile start < end:\n",
    "\t\tA[start], A[end] = A[end], A[start]\n",
    "\t\tstart += 1\n",
    "\t\tend -= 1\n",
    "\n",
    "# Driver function to test above function\n",
    "A = [1, 2, 3, 4, 5, 6]\n",
    "print(A)\n",
    "reverseList(A, 0, 5)\n",
    "print(\"Reversed list is\")\n",
    "print(A)\n",
    "# This program is contributed by Pratik Chhajer\n"
   ]
  },
  {
   "cell_type": "code",
   "execution_count": 34,
   "metadata": {},
   "outputs": [
    {
     "name": "stdout",
     "output_type": "stream",
     "text": [
      "8\n",
      "5\n",
      "7\n",
      "[1, 2, 5, 8, 4, 3, 6]\n",
      "[1, 2, 5, 4, 8, 3, 6]\n",
      "[1, 2, 5, 4, 3, 8, 6]\n",
      "[1, 2, 5, 4, 3, 6, 8]\n",
      "[1, 2, 4, 5, 3, 6, 8]\n",
      "[1, 2, 4, 3, 5, 6, 8]\n",
      "[1, 2, 3, 4, 5, 6, 8]\n",
      "[1, 2, 3, 4, 5, 6, 8]\n"
     ]
    }
   ],
   "source": [
    "arr = [1, 5, 2, 8, 4, 3, 6]\n",
    "\n",
    "maxarr = max(arr)\n",
    "print(maxarr)\n",
    "print(arr[1])\n",
    "print(len(arr))\n",
    "\n",
    "for i in range(len(arr)):\n",
    "\n",
    "    for j in range(0, len(arr)-i-1):\n",
    "\n",
    "        if arr[j] > arr[j+1]:\n",
    "            arr[j], arr[j+1] = arr[j+1], arr[j]\n",
    "            print(arr)\n",
    "print(arr)"
   ]
  },
  {
   "cell_type": "code",
   "execution_count": 19,
   "metadata": {},
   "outputs": [
    {
     "name": "stdout",
     "output_type": "stream",
     "text": [
      "[1, 2, 3, 4, 5, 6, 8]\n",
      "[10, 20, 30, 40]\n",
      "[40, 30, 20, 10]\n"
     ]
    }
   ],
   "source": [
    "arr = [1,5,2,8,4,3,6]\n",
    "\n",
    "arr.sort()\n",
    "print(arr)\n",
    "\n",
    "\n",
    "# List of Integers\n",
    "numbers = [10, 30, 40, 20]\n",
    "\n",
    "# Sorting list of Integers\n",
    "numbers.sort()\n",
    "print(numbers)\n",
    "numbers.sort(reverse=True)\n",
    "\n",
    "print(numbers)"
   ]
  },
  {
   "cell_type": "code",
   "execution_count": 22,
   "metadata": {},
   "outputs": [
    {
     "name": "stdout",
     "output_type": "stream",
     "text": [
      "[1, 2, 3, 4, 5, 5]\n"
     ]
    }
   ],
   "source": [
    "x = [5, 4, 3, 2, 5, 1]\n",
    "n = len(x)\n",
    "\n",
    "# Traverse through all list elements\n",
    "for i in range(n):\n",
    "\n",
    "# Traverse the list from 0 to n-i-1\n",
    "# (The last element will already be in place after first pass, so no need to re-check)\n",
    "    for j in range(0, n-i-1):\n",
    "\n",
    "        # Swap if current element is greater than next\n",
    "        if x[j] > x[j+1]:\n",
    "            x[j], x[j+1] = x[j+1], x[j]\n",
    "print(x)"
   ]
  },
  {
   "cell_type": "markdown",
   "metadata": {},
   "source": [
    "K’th smallest element in an unsorted array using Sorting:\n",
    "Sort the given array and return the element at index K-1 in the sorted array. \n",
    "\n",
    "Sort the input array in the increasing order\n",
    "Return the element at the K-1 index (0 – Based indexing) in the sorted array"
   ]
  },
  {
   "cell_type": "code",
   "execution_count": 40,
   "metadata": {},
   "outputs": [
    {
     "name": "stdout",
     "output_type": "stream",
     "text": [
      "K'th smallest element is 3\n"
     ]
    }
   ],
   "source": [
    "# Function to return K'th smallest\n",
    "# element in a given array\n",
    "\n",
    "\n",
    "def kthSmallest(arr, N, K):\n",
    "\n",
    "    # Sort the given array\n",
    "    arr.sort()\n",
    "\n",
    "    # Return k'th element in the\n",
    "    # sorted array\n",
    "    return arr[K-1]\n",
    "\n",
    "#[3,5,7,12,19]\n",
    "# Driver code\n",
    "if __name__ == '__main__':\n",
    "    arr = [12, 3, 5, 7, 19]\n",
    "    N = len(arr)\n",
    "    K = 1\n",
    "\n",
    "    # Function call\n",
    "    print(\"K'th smallest element is\",\n",
    "          kthSmallest(arr, N, K))"
   ]
  },
  {
   "cell_type": "code",
   "execution_count": 41,
   "metadata": {},
   "outputs": [
    {
     "name": "stdout",
     "output_type": "stream",
     "text": [
      "[-1, -3, -7, 4, 5, 6, 2, 8, 9]\n"
     ]
    }
   ],
   "source": [
    "\n",
    "# A Python 3 program to put\n",
    "# all negative numbers before\n",
    "# positive numbers\n",
    "\n",
    "def rearrange(arr, n ) :\n",
    "\n",
    "    # Please refer partition() in\n",
    "    # below post\n",
    "    # https://www.geeksforgeeks.org / quick-sort / j = 0\n",
    "    j = 0\n",
    "    for i in range(0, n) :\n",
    "        if (arr[i] < 0) :\n",
    "            temp = arr[i]\n",
    "            arr[i] = arr[j]\n",
    "            arr[j]= temp\n",
    "            j = j + 1\n",
    "    print(arr)\n",
    "\n",
    "# Driver code\n",
    "arr = [-1, 2, -3, 4, 5, 6, -7, 8, 9]\n",
    "n = len(arr)\n",
    "rearrange(arr, n)"
   ]
  },
  {
   "cell_type": "code",
   "execution_count": 42,
   "metadata": {},
   "outputs": [
    {
     "name": "stdout",
     "output_type": "stream",
     "text": [
      "-7 -3 -1 2 4 5 6 8 9 "
     ]
    }
   ],
   "source": [
    "# Python code for the same approach\n",
    "def move(arr):\n",
    "  arr.sort()\n",
    "\n",
    "# driver code\n",
    "arr = [ -1, 2, -3, 4, 5, 6, -7, 8, 9 ]\n",
    "move(arr)\n",
    "for e in arr:\n",
    "    print(e , end = \" \")"
   ]
  },
  {
   "cell_type": "code",
   "execution_count": 49,
   "metadata": {},
   "outputs": [
    {
     "name": "stdout",
     "output_type": "stream",
     "text": [
      "1 2 3 4 5 "
     ]
    }
   ],
   "source": [
    "# Python code to implement the approach\n",
    "\n",
    "def Unionarray(arr1, arr2, n, m):\n",
    "\t# Create a set to store unique elements from both arrays\n",
    "\tset1 = set(arr1)\n",
    "\tset2 = set(arr2)\n",
    "\t# Merge both sets and convert back to list\n",
    "\tresult = list(set1.union(set2))\n",
    "\treturn result\n",
    "\n",
    "# Driver code\n",
    "if __name__ == \"__main__\":\n",
    "\tarr1 = [1, 2, 2, 2, 3]\n",
    "\tarr2 = [2, 3, 3, 4, 5, 5]\n",
    "\tn = len(arr1)\n",
    "\tm = len(arr2)\n",
    "\n",
    "\t# Function call\n",
    "\tuni = Unionarray(arr1, arr2, n, m)\n",
    "\tfor i in uni:\n",
    "\t\tprint(i, end=\" \")\n"
   ]
  },
  {
   "cell_type": "code",
   "execution_count": 50,
   "metadata": {},
   "outputs": [
    {
     "name": "stdout",
     "output_type": "stream",
     "text": [
      "2 5 "
     ]
    }
   ],
   "source": [
    "# Function to find the intersection of two arrays\n",
    "def find_intersection(arr1, arr2):\n",
    "\tset1 = set(arr1)\n",
    "\n",
    "\t# Removing duplicates from the first array\n",
    "\tresult = []\n",
    "\n",
    "\t# Avoiding duplicates and adding intersections\n",
    "\tfor num in arr2:\n",
    "\t\tif num in set1:\n",
    "\t\t\tresult.append(num)\n",
    "\t\t\tset1.remove(num)\n",
    "\n",
    "\treturn result\n",
    "\n",
    "# Driver code\n",
    "if __name__ == \"__main__\":\n",
    "\tarr1 = [1, 2, 4, 5, 6]\n",
    "\tarr2 = [2, 3, 5, 7]\n",
    "\n",
    "\t# Function call\n",
    "\tintersection = find_intersection(arr1, arr2)\n",
    "\tfor num in intersection:\n",
    "\t\tprint(num, end=\" \")\n"
   ]
  },
  {
   "cell_type": "code",
   "execution_count": 51,
   "metadata": {},
   "outputs": [
    {
     "name": "stdout",
     "output_type": "stream",
     "text": [
      "2\n",
      "3\n"
     ]
    }
   ],
   "source": [
    "# Python3 code for above approach\n",
    "def duplicates(arr, n):\n",
    "\n",
    "\t# Increment array elements by 1\n",
    "\tfor i in range(n):\n",
    "\t\tarr[i] = arr[i] + 1\n",
    "\t\t\n",
    "\t# result vector\n",
    "\tres = []\n",
    "\t\n",
    "\t# count variable for count of\n",
    "\t# largest element\n",
    "\tcount = 0\n",
    "\tfor i in range(n):\n",
    "\t\n",
    "\t\t# Calculate index value\n",
    "\t\tif(abs(arr[i]) > n):\n",
    "\t\t\tindex = abs(arr[i])//(n+1)\n",
    "\t\telse:\n",
    "\t\t\tindex = abs(arr[i])\n",
    "\t\t\t\n",
    "\t\t# Check if index equals largest element value\n",
    "\t\tif(index == n):\n",
    "\t\t\tcount += 1\n",
    "\t\t\tcontinue\n",
    "\t\t\t\n",
    "\t\t# Get element value at index\n",
    "\t\tval = arr[index]\n",
    "\t\t\n",
    "\t\t# Check if element value is negative, positive\n",
    "\t\t# or greater than n\n",
    "\t\tif(val < 0):\n",
    "\t\t\tres.append(index-1)\n",
    "\t\t\tarr[index] = abs(arr[index]) * (n + 1)\n",
    "\t\telif(val>n):\n",
    "\t\t\tcontinue\n",
    "\t\telse:\n",
    "\t\t\tarr[index] = -arr[index]\n",
    "\t\t\t\n",
    "\t# If largest element occurs more than once\n",
    "\tif(count > 1):\n",
    "\t\tres.append(n - 1)\n",
    "\tif(len(res) == 0):\n",
    "\t\tres.append(-1)\n",
    "\telse:\n",
    "\t\tres.sort()\n",
    "\treturn res\n",
    "\n",
    "# Driver Code\n",
    "numRay = [ 0, 4, 3, 2, 7, 8, 2, 3, 1 ]\n",
    "n = len(numRay)\n",
    "ans = duplicates(numRay,n)\n",
    "for i in ans:\n",
    "\tprint(i)\n",
    "\t\n",
    "# This code is contributed by Vibhu Karnwal\n"
   ]
  },
  {
   "cell_type": "code",
   "execution_count": 52,
   "metadata": {},
   "outputs": [
    {
     "name": "stdout",
     "output_type": "stream",
     "text": [
      "The repeating elements are:\n",
      "1 3 6 "
     ]
    }
   ],
   "source": [
    "def find_duplicates(arr):\n",
    "\tduplicates = []\n",
    "\tn = len(arr)\n",
    "\n",
    "\t# First check all the values that are present in the array\n",
    "\t# then go to those values as indices and increment by the size of the array\n",
    "\tfor i in range(n):\n",
    "\t\tindex = arr[i] % n\n",
    "\t\tarr[index] += n\n",
    "\n",
    "\t# Now check which value exists more than once by dividing with the size of the array\n",
    "\tfor i in range(n):\n",
    "\t\tif arr[i] // n >= 2:\n",
    "\t\t\tduplicates.append(i)\n",
    "\n",
    "\treturn duplicates\n",
    "\n",
    "\n",
    "arr = [1, 6, 3, 1, 3, 6, 6]\n",
    "print(\"The repeating elements are:\")\n",
    "ans = find_duplicates(arr)\n",
    "for x in ans:\n",
    "\tprint(x, end=\" \")\n"
   ]
  }
 ],
 "metadata": {
  "kernelspec": {
   "display_name": "Python 3",
   "language": "python",
   "name": "python3"
  },
  "language_info": {
   "codemirror_mode": {
    "name": "ipython",
    "version": 3
   },
   "file_extension": ".py",
   "mimetype": "text/x-python",
   "name": "python",
   "nbconvert_exporter": "python",
   "pygments_lexer": "ipython3",
   "version": "3.12.0"
  }
 },
 "nbformat": 4,
 "nbformat_minor": 2
}
