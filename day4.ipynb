{
 "cells": [
  {
   "cell_type": "code",
   "execution_count": 7,
   "metadata": {},
   "outputs": [
    {
     "name": "stdout",
     "output_type": "stream",
     "text": [
      "Simple Calculator\n",
      "1. Add\n",
      "2. Subtract\n",
      "3. Multiply\n",
      "4. Divide\n",
      "4.0 + 5.0 = 9.0\n"
     ]
    }
   ],
   "source": [
    "# Function to add two numbers\n",
    "def add(x, y):\n",
    "    return x + y\n",
    "\n",
    "# Function to subtract two numbers\n",
    "def subtract(x, y):\n",
    "    return x - y\n",
    "\n",
    "# Function to multiply two numbers\n",
    "def multiply(x, y):\n",
    "    return x * y\n",
    "\n",
    "# Function to divide two numbers\n",
    "def divide(x, y):\n",
    "    if y != 0:\n",
    "        return x / y\n",
    "    else:\n",
    "        return \"Error: Cannot divide by zero\"\n",
    "\n",
    "# Main calculator function\n",
    "def calculator():\n",
    "    print(\"Simple Calculator\")\n",
    "    print(\"1. Add\")\n",
    "    print(\"2. Subtract\")\n",
    "    print(\"3. Multiply\")\n",
    "    print(\"4. Divide\")\n",
    "\n",
    "    choice = input(\"Enter choice (1/2/3/4): \")\n",
    "# using typecasting string to float\n",
    "    num1 = float(input(\"Enter first number: \"))\n",
    "    num2 = float(input(\"Enter second number: \"))\n",
    "\n",
    "    if choice == '1':\n",
    "        print(num1, \"+\", num2, \"=\", add(num1, num2))\n",
    "    elif choice == '2':\n",
    "        print(num1, \"-\", num2, \"=\", subtract(num1, num2))\n",
    "    elif choice == '3':\n",
    "        print(num1, \"*\", num2, \"=\", multiply(num1, num2))\n",
    "    elif choice == '4':\n",
    "        print(num1, \"/\", num2, \"=\", divide(num1, num2))\n",
    "    else:\n",
    "        print(\"Invalid Input\")\n",
    "\n",
    "# Call the calculator function\n",
    "calculator()\n"
   ]
  },
  {
   "cell_type": "markdown",
   "metadata": {},
   "source": [
    "Requirements\n",
    "- Makethe list of the usernames\n",
    "- Ask for username\n",
    "- If the username have exists login successfull\n",
    "\n",
    "\n",
    "users = ['pramod', 'john', 'mahesh']\n"
   ]
  },
  {
   "cell_type": "code",
   "execution_count": 6,
   "metadata": {},
   "outputs": [
    {
     "name": "stdout",
     "output_type": "stream",
     "text": [
      "User does not exist\n"
     ]
    }
   ],
   "source": [
    "users = ['pramod', 'john', 'mahesh']\n",
    "\n",
    "user = input('Enter user name')\n",
    "\n",
    "if user in users:\n",
    "    print('Login Successful')\n",
    "else:\n",
    "    print('User does not exist')"
   ]
  },
  {
   "cell_type": "markdown",
   "metadata": {},
   "source": [
    "Calculater APP\n",
    "\n",
    "- Ask for two numbers\n",
    "- Ask users for the operation"
   ]
  },
  {
   "cell_type": "code",
   "execution_count": 10,
   "metadata": {},
   "outputs": [
    {
     "name": "stdout",
     "output_type": "stream",
     "text": [
      "Simple Calculator\n",
      "1. Add\n",
      "2. Subtract\n",
      "3. Multiply\n",
      "4. Divide\n",
      "4.0 + 6.0 = 10.0\n"
     ]
    }
   ],
   "source": [
    "\n",
    "print(\"Simple Calculator\")\n",
    "print(\"1. Add\")\n",
    "print(\"2. Subtract\")\n",
    "print(\"3. Multiply\")\n",
    "print(\"4. Divide\")\n",
    "choice = input(\"Enter choice (1/2/3/4): \")\n",
    "num1 = float(input(\"Enter first number: \"))\n",
    "num2 = float(input(\"Enter second number: \"))\n",
    "\n",
    "if choice == '1':\n",
    "    print(num1, \"+\", num2, \"=\", num1+num2)\n",
    "elif choice == '2':\n",
    "    print(num1, \"-\", num2, \"=\", num1-num2)\n",
    "elif choice == '3':\n",
    "    print(num1, \"*\", num2, \"=\", num*num2)\n",
    "elif choice == '4':\n",
    "    print(num1, \"/\", num2, \"=\", num1/num2)\n",
    "else:\n",
    "    print(\"Invalid Input\")"
   ]
  },
  {
   "cell_type": "markdown",
   "metadata": {},
   "source": [
    "Result Processing(Exam) Requirements\n",
    "- Ask the user what percentage did he get in his exam\n",
    "- If the percentage  is between 100-80 it is Outstanding\n",
    "- If the percentage  is between 80-70 it is Excellent\n",
    "- If the percentage  is between 70-60 it is Very good\n",
    "- If the percentage  is between 50-40 it is Alright\n",
    "- Else fail\n",
    "\n",
    "\n"
   ]
  },
  {
   "cell_type": "code",
   "execution_count": 13,
   "metadata": {},
   "outputs": [
    {
     "name": "stdout",
     "output_type": "stream",
     "text": [
      "Invalid Input\n"
     ]
    }
   ],
   "source": [
    "user_exam_percentage = int(input(\"What is your percentage: \"))\n",
    "\n",
    "if user_exam_percentage >80 and user_exam_percentage <= 100:\n",
    "    print(\"Outstanding\")\n",
    "elif user_exam_percentage >70 and user_exam_percentage <= 80:\n",
    "    print(\"Excellent\")\n",
    "elif user_exam_percentage >60 and user_exam_percentage <= 70:\n",
    "    print(\"Very Good\")\n",
    "elif user_exam_percentage >50 and user_exam_percentage <= 60:\n",
    "    print(\"Good\")\n",
    "elif user_exam_percentage >=40 and user_exam_percentage <= 50:\n",
    "    print(\"Alright\")\n",
    "elif user_exam_percentage < 40:\n",
    "    print(\"Failed\")\n",
    "else:\n",
    "    print(\"Invalid Input\")"
   ]
  },
  {
   "cell_type": "markdown",
   "metadata": {},
   "source": [
    "Task\n",
    "Using Grades\n",
    "- Ask the user fo percentage \n",
    "- return the grade\n",
    "- If the grade is between 3.5 - 4 then outstanding"
   ]
  },
  {
   "cell_type": "code",
   "execution_count": 25,
   "metadata": {},
   "outputs": [
    {
     "name": "stdout",
     "output_type": "stream",
     "text": [
      "Your Grade is \"A\" GPA is 3.25\n"
     ]
    }
   ],
   "source": [
    "percentage = float(input(\"Input is your percentage: \"))\n",
    "\n",
    "if percentage >= 90 and percentage <= 100:\n",
    "    GPA = (percentage/20 -1)\n",
    "    print('Your Grade is \"A+\"','GPA is ' + str(GPA))\n",
    "elif percentage >= 80 and percentage < 90:\n",
    "    GPA = (percentage/20 -1)\n",
    "    print('Your Grade is \"A\"','GPA is ' + str(GPA))\n",
    "elif percentage >= 70 and percentage < 80:\n",
    "    GPA = (percentage/20 -1)\n",
    "    print('Your Grade is \"B+\"','GPA is ' + str(GPA))\n",
    "elif percentage >= 60 and percentage < 70:\n",
    "    GPA = (percentage/20 -1)\n",
    "    print('Your Grade is \"B\"','GPA is ' + str(GPA))\n",
    "elif percentage >= 50 and percentage < 60:\n",
    "    GPA = (percentage/20 -1)\n",
    "    print('Your Grade is \"C+\"','GPA is ' + str(GPA))\n",
    "elif percentage >= 40 and percentage < 50:\n",
    "    GPA = (percentage/20 -1)\n",
    "    print('Your Grade is \"C\"','GPA is ' + str(GPA))\n",
    "elif percentage >= 35 and percentage < 40:\n",
    "    GPA = (percentage/20 -1)\n",
    "    print('Your Grade is \"D\"','GPA is ' + str(GPA))\n",
    "elif percentage < 35:\n",
    "    GPA = (percentage/20 -1)\n",
    "    print('Your Grade is \"NG\"','GPA is ' + str(GPA))\n",
    "else:\n",
    "    print('Invalid percentage')"
   ]
  },
  {
   "cell_type": "code",
   "execution_count": null,
   "metadata": {},
   "outputs": [],
   "source": []
  }
 ],
 "metadata": {
  "kernelspec": {
   "display_name": "Python 3",
   "language": "python",
   "name": "python3"
  },
  "language_info": {
   "codemirror_mode": {
    "name": "ipython",
    "version": 3
   },
   "file_extension": ".py",
   "mimetype": "text/x-python",
   "name": "python",
   "nbconvert_exporter": "python",
   "pygments_lexer": "ipython3",
   "version": "3.12.0"
  }
 },
 "nbformat": 4,
 "nbformat_minor": 2
}
