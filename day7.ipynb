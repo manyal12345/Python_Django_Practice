{
 "cells": [
  {
   "cell_type": "code",
   "execution_count": 5,
   "metadata": {},
   "outputs": [
    {
     "name": "stdout",
     "output_type": "stream",
     "text": [
      "          * \n",
      "         * * \n",
      "        * * * \n",
      "       * * * * \n",
      "      * * * * * \n",
      "     * * * * * * \n",
      "    * * * * * * * \n",
      "     * * * * * * \n",
      "      * * * * * \n",
      "       * * * * \n",
      "        * * * \n",
      "         * * \n",
      "          * \n"
     ]
    }
   ],
   "source": [
    "# Printing Patterns\n",
    "\n",
    "def pattern(n):\n",
    "    k = 2*n - 2\n",
    "    for i in range(0, n):\n",
    "        for j in range(0, k):\n",
    "            print(end=\" \")\n",
    "        k = k - 1\n",
    "        for j in range(0, i+1):\n",
    "            print(\"* \", end=\"\")\n",
    "        print(\"\\r\")\n",
    "\n",
    "    k = n - 2\n",
    "    for i in range(n, -1, -1):\n",
    "        for j in range(k, 0, -1):\n",
    "            print(end=\" \")\n",
    "        k = k + 1\n",
    "        for j in range(0, i+1):\n",
    "            print(\"* \", end=\"\")\n",
    "        print(\"\\r\")\n",
    "\n",
    "pattern(6)\n"
   ]
  },
  {
   "cell_type": "code",
   "execution_count": 6,
   "metadata": {},
   "outputs": [
    {
     "name": "stdout",
     "output_type": "stream",
     "text": [
      "                  * \n",
      "                 * * \n",
      "                * * * \n",
      "               * * * * \n",
      "              * * * * * \n",
      "             * * * * * * \n",
      "            * * * * * * * \n",
      "           * * * * * * * * \n",
      "          * * * * * * * * * \n",
      "         * * * * * * * * * * \n"
     ]
    }
   ],
   "source": [
    "# Printing Patterns\n",
    "\n",
    "def pattern(n):\n",
    "    k = 2*n - 2\n",
    "    for i in range(0, n):\n",
    "        for j in range(0, k):\n",
    "            print(end=\" \")\n",
    "        k = k - 1\n",
    "        for j in range(0, i+1):\n",
    "            print(\"* \", end=\"\")\n",
    "        print(\"\\r\")\n",
    "\n",
    "pattern(10)"
   ]
  },
  {
   "cell_type": "code",
   "execution_count": 7,
   "metadata": {},
   "outputs": [
    {
     "name": "stdout",
     "output_type": "stream",
     "text": [
      "15\n"
     ]
    }
   ],
   "source": [
    "x = lambda a : a + 10\n",
    "print(x(5))"
   ]
  },
  {
   "cell_type": "code",
   "execution_count": 8,
   "metadata": {},
   "outputs": [
    {
     "name": "stdout",
     "output_type": "stream",
     "text": [
      "30\n"
     ]
    }
   ],
   "source": [
    "x = lambda a, b : a * b\n",
    "print(x(5, 6))"
   ]
  },
  {
   "cell_type": "code",
   "execution_count": 9,
   "metadata": {},
   "outputs": [
    {
     "name": "stdout",
     "output_type": "stream",
     "text": [
      "13\n"
     ]
    }
   ],
   "source": [
    "x = lambda a, b, c : a + b + c\n",
    "print(x(5, 6, 2))"
   ]
  },
  {
   "cell_type": "code",
   "execution_count": 10,
   "metadata": {},
   "outputs": [
    {
     "name": "stdout",
     "output_type": "stream",
     "text": [
      "22\n"
     ]
    }
   ],
   "source": [
    "def myfunc(n):\n",
    "  return lambda a : a * n\n",
    "\n",
    "mydoubler = myfunc(2)\n",
    "\n",
    "print(mydoubler(11))"
   ]
  },
  {
   "cell_type": "code",
   "execution_count": 11,
   "metadata": {},
   "outputs": [
    {
     "name": "stdout",
     "output_type": "stream",
     "text": [
      "The addition of 5 and 15 results 20.\n"
     ]
    }
   ],
   "source": [
    "# Defining and calling a function with parameters\n",
    "def add(num1: int, num2: int) -> int:\n",
    "    \"\"\"Add two numbers\"\"\"\n",
    "    num3 = num1 + num2\n",
    "\n",
    "    return num3\n",
    "\n",
    "# Driver code\n",
    "num1, num2 = 5, 15\n",
    "ans = add(num1, num2)\n",
    "print(f\"The addition of {num1} and {num2} results {ans}.\")"
   ]
  },
  {
   "cell_type": "code",
   "execution_count": 5,
   "metadata": {},
   "outputs": [
    {
     "name": "stdout",
     "output_type": "stream",
     "text": [
      "50\n"
     ]
    }
   ],
   "source": [
    "# Return Keywords\n",
    "\n",
    "def add(a, b):\n",
    "   return a + b\n",
    "\n",
    "c = add(20, 30)\n",
    "\n",
    "print(c)"
   ]
  },
  {
   "cell_type": "markdown",
   "metadata": {},
   "source": [
    "Args and Kwargs\n",
    "\n",
    "Arguments and Keyword Arguments"
   ]
  },
  {
   "cell_type": "code",
   "execution_count": 10,
   "metadata": {},
   "outputs": [
    {
     "name": "stdout",
     "output_type": "stream",
     "text": [
      "hari\n",
      "ram\n",
      "Radha\n"
     ]
    }
   ],
   "source": [
    "# Args\n",
    "def child(*args,):\n",
    "    #\n",
    "    for i in args:\n",
    "        print(i)\n",
    "\n",
    "child(\"hari\",\"ram\",\"Radha\")"
   ]
  },
  {
   "cell_type": "code",
   "execution_count": 16,
   "metadata": {},
   "outputs": [
    {
     "name": "stdout",
     "output_type": "stream",
     "text": [
      " parents are {'parents': 'Dinesh', 'grandparent': 'Krishna'} and children are ('hari', 'ram', 'Radha')  {'parents': 'Dinesh', 'grandparent': 'Krishna'}\n"
     ]
    }
   ],
   "source": [
    "# Keyward Args **kwargs\n",
    "def child(*args, **parents):\n",
    "    print(f' parents are {parents} and children are {args} ',parents)\n",
    "\n",
    "child(\"hari\",\"ram\",\"Radha\", parents = 'Dinesh', grandparent='Krishna')\n"
   ]
  },
  {
   "cell_type": "markdown",
   "metadata": {},
   "source": [
    "(basic)Task: Calculator Function\n",
    "\n",
    "Write a Python function called simple_calculator that takes three parameters: num1, num2, and operation. The function should perform a basic arithmetic operation based on the operation parameter and return the result. The valid operations are \"add\", \"subtract\", \"multiply\", and \"divide"
   ]
  },
  {
   "cell_type": "code",
   "execution_count": 18,
   "metadata": {},
   "outputs": [
    {
     "data": {
      "text/plain": [
       "8"
      ]
     },
     "execution_count": 18,
     "metadata": {},
     "output_type": "execute_result"
    }
   ],
   "source": [
    "# Simple Calculater\n",
    "num1 = input(\"Enter first number: \")\n",
    "num2 = input(\"Enter second number: \")\n",
    "operater = input(\"Enter operater: '+' '-' '*' '/' \")\n",
    "\n",
    "def simple_calculater(num1, num2, operater):\n",
    "    if operater == \"+\":\n",
    "        return int(num1) + int(num2)\n",
    "    elif operater == \"-\":\n",
    "        return int(num1) - int(num2)\n",
    "    elif operater == \"*\":\n",
    "        return int(num1) * int(num2)\n",
    "    elif operater == \"/\":\n",
    "        return int(num1) / int(num2)\n",
    "    else:\n",
    "        print(\"Invalid Input\")\n",
    "\n",
    "simple_calculater(num1, num2, operater)"
   ]
  },
  {
   "cell_type": "markdown",
   "metadata": {},
   "source": [
    "(Intermmediate) Task : Ecommerce application with two users buyer and seller seller can add product and view there products buyer can view all products from different sellers and can purchase one product, after purchase a bill listing total amount for buyer should be printed out"
   ]
  },
  {
   "cell_type": "code",
   "execution_count": 19,
   "metadata": {},
   "outputs": [
    {
     "name": "stdout",
     "output_type": "stream",
     "text": [
      "Product: Product 1, Price: 10, Seller: Seller 1\n",
      "Product: Product 2, Price: 15, Seller: Seller 1\n",
      "Product: Product 3, Price: 20, Seller: Seller 2\n",
      "Product: Product 4, Price: 25, Seller: Seller 2\n",
      "Total Amount: 10\n"
     ]
    }
   ],
   "source": [
    "# Global Variables\n",
    "products = []\n",
    "sellers = []\n",
    "buyers = []\n",
    "\n",
    "# Product Class\n",
    "class Product:\n",
    "    def __init__(self, name, price, seller):\n",
    "        self.name = name\n",
    "        self.price = price\n",
    "        self.seller = seller\n",
    "\n",
    "# Seller Class\n",
    "class Seller:\n",
    "    def __init__(self, name):\n",
    "        self.name = name\n",
    "\n",
    "    def add_product(self, name, price):\n",
    "        product = Product(name, price, self)\n",
    "        products.append(product)\n",
    "\n",
    "    def view_products(self):\n",
    "        return [product for product in products if product.seller == self]\n",
    "\n",
    "# Buyer Class\n",
    "class Buyer:\n",
    "    def __init__(self, name):\n",
    "        self.name = name\n",
    "        self.purchased_products = []\n",
    "\n",
    "    def view_products(self):\n",
    "        return products\n",
    "\n",
    "    def purchase_product(self, product):\n",
    "        self.purchased_products.append(product)\n",
    "\n",
    "    def get_total_amount(self):\n",
    "        total_amount = sum(product.price for product in self.purchased_products)\n",
    "        return total_amount\n",
    "\n",
    "# Utility Functions\n",
    "def create_seller(name):\n",
    "    seller = Seller(name)\n",
    "    sellers.append(seller)\n",
    "    return seller\n",
    "\n",
    "def create_buyer(name):\n",
    "    buyer = Buyer(name)\n",
    "    buyers.append(buyer)\n",
    "    return buyer\n",
    "\n",
    "def main():\n",
    "    # Create Sellers\n",
    "    seller1 = create_seller(\"Seller 1\")\n",
    "    seller2 = create_seller(\"Seller 2\")\n",
    "\n",
    "    # Add Products\n",
    "    seller1.add_product(\"Product 1\", 10)\n",
    "    seller1.add_product(\"Product 2\", 15)\n",
    "    seller2.add_product(\"Product 3\", 20)\n",
    "    seller2.add_product(\"Product 4\", 25)\n",
    "\n",
    "    # Create a Buyer\n",
    "    buyer = create_buyer(\"Buyer\")\n",
    "\n",
    "    # View Products\n",
    "    all_products = buyer.view_products()\n",
    "    for product in all_products:\n",
    "        print(f\"Product: {product.name}, Price: {product.price}, Seller: {product.seller.name}\")\n",
    "\n",
    "    # Purchase a Product\n",
    "    chosen_product = all_products[0]\n",
    "    buyer.purchase_product(chosen_product)\n",
    "\n",
    "    # Print Total Amount\n",
    "    total_amount = buyer.get_total_amount()\n",
    "    print(f\"Total Amount: {total_amount}\")\n",
    "\n",
    "# Run the main function\n",
    "main()"
   ]
  },
  {
   "cell_type": "code",
   "execution_count": 21,
   "metadata": {},
   "outputs": [
    {
     "name": "stdout",
     "output_type": "stream",
     "text": [
      "\n",
      "1. Seller: Add Product\n",
      "2. Seller: View Products\n",
      "3. Buyer: View All Products\n",
      "4. Buyer: Purchase Product\n",
      "5. Exit\n",
      "Product added successfully!\n",
      "\n",
      "1. Seller: Add Product\n",
      "2. Seller: View Products\n",
      "3. Buyer: View All Products\n",
      "4. Buyer: Purchase Product\n",
      "5. Exit\n",
      "\n",
      "All Products:\n",
      "Product: gmail, Price: $450000.0, Seller: google\n",
      "Exiting the program. Goodbye!\n",
      "\n",
      "1. Seller: Add Product\n",
      "2. Seller: View Products\n",
      "3. Buyer: View All Products\n",
      "4. Buyer: Purchase Product\n",
      "5. Exit\n",
      "Exiting the program. Goodbye!\n"
     ]
    }
   ],
   "source": [
    "# E-commerce application with functions\n",
    "\n",
    "# Global variables to store product information\n",
    "products = []\n",
    "\n",
    "\n",
    "# Function for the seller to add a product\n",
    "def add_product():\n",
    "    product_name = input(\"Enter product name: \")\n",
    "    price = float(input(\"Enter product price: \"))\n",
    "    seller_name = input(\"Enter seller name: \")\n",
    "\n",
    "    product = {\n",
    "        \"name\": product_name,\n",
    "        \"price\": price,\n",
    "        \"seller\": seller_name\n",
    "    }\n",
    "\n",
    "    products.append(product)\n",
    "    print(\"Product added successfully!\")\n",
    "\n",
    "# Function for the seller to view their products\n",
    "def view_products(seller_name):\n",
    "    print(\"\\nYour Products:\")\n",
    "    for product in products:\n",
    "        if product[\"seller\"] == seller_name:\n",
    "            print(f\"Product: {product['name']}, Price: ${product['price']}\")\n",
    "\n",
    "# Function for the buyer to view all products\n",
    "def view_all_products():\n",
    "    print(\"\\nAll Products:\")\n",
    "    for product in products:\n",
    "        print(f\"Product: {product['name']}, Price: ${product['price']}, Seller: {product['seller']}\")\n",
    "\n",
    "#buyer to purchase a product\n",
    "    purchase = input(\"Do you wanna purchase a product? (y/n): \")\n",
    "    if purchase.lower() == \"y\":\n",
    "\n",
    "        product_index = int(input(\"Enter the index of the product you want to purchase: \"))\n",
    "\n",
    "        if 0 <= product_index < len(products):\n",
    "            selected_product = products[product_index]\n",
    "\n",
    "            total_amount = sum(product['price'] for product in products)\n",
    "\n",
    "            print(\"\\nBill:\")\n",
    "            for product in products:\n",
    "                print(f\"Product: {product['name']}, Price: ${product['price']}\")\n",
    "\n",
    "            print(f\"Total Amount: ${total_amount}\")\n",
    "        else:\n",
    "            print(\"Invalid product index.\")\n",
    "    else:\n",
    "        print(\"Exiting the program. Goodbye!\")\n",
    "# Main program\n",
    "def main():\n",
    "    while True:\n",
    "        print(\"\\n1. Seller: Add Product\")\n",
    "        print(\"2. Seller: View Products\")\n",
    "        print(\"3. Buyer: View All Products\")\n",
    "        print(\"4. Buyer: Purchase Product\")\n",
    "        print(\"5. Exit\")\n",
    "\n",
    "        choice = int(input(\"Enter your choice: \"))\n",
    "\n",
    "        if choice == 1:\n",
    "            add_product()\n",
    "        elif choice == 2:\n",
    "            seller_name = input(\"Enter your name as a seller: \")\n",
    "            view_products(seller_name)\n",
    "        elif choice == 3:\n",
    "            view_all_products()\n",
    "        elif choice == 4:\n",
    "            print(\"Exiting the program. Goodbye!\")\n",
    "            break\n",
    "        else:\n",
    "            print(\"Invalid choice. Please try again.\")\n",
    "\n",
    "if __name__ == \"__main__\":\n",
    "    main()"
   ]
  }
 ],
 "metadata": {
  "kernelspec": {
   "display_name": "Python 3",
   "language": "python",
   "name": "python3"
  },
  "language_info": {
   "codemirror_mode": {
    "name": "ipython",
    "version": 3
   },
   "file_extension": ".py",
   "mimetype": "text/x-python",
   "name": "python",
   "nbconvert_exporter": "python",
   "pygments_lexer": "ipython3",
   "version": "3.12.0"
  }
 },
 "nbformat": 4,
 "nbformat_minor": 2
}
