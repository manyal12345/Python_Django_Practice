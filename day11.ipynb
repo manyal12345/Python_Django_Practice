{
 "cells": [
  {
   "cell_type": "code",
   "execution_count": 1,
   "metadata": {},
   "outputs": [],
   "source": [
    "# Recursion\n",
    "# 1. A function calling itself\n",
    "\n",
    "username = input(\"Enter username: \")\n",
    "\n",
    "def user_hello(username):\n",
    "    hello(username)\n",
    "\n",
    "def hello(username):\n",
    "    print(\"Hello\", username)\n",
    "\n",
    "user_hello(username)"
   ]
  },
  {
   "cell_type": "code",
   "execution_count": 2,
   "metadata": {},
   "outputs": [],
   "source": [
    "# Decorators\n",
    "\n",
    "# 1. A function that takes another function as an argument\n",
    "\n",
    "# 2. A function that returns another function\n",
    "def outer_function():\n",
    "    def inner_function():\n",
    "        # code for inner function\n",
    "        print(\"Hello\")\n",
    "    return inner_function\n"
   ]
  },
  {
   "cell_type": "code",
   "execution_count": 10,
   "metadata": {},
   "outputs": [
    {
     "name": "stdout",
     "output_type": "stream",
     "text": [
      "Hello\n",
      "5\n"
     ]
    }
   ],
   "source": [
    "def hello(func):\n",
    "    def wrapper(*args, **kwargs):\n",
    "        print(\"Hello\")\n",
    "        return func(*args, **kwargs)\n",
    "    return wrapper\n",
    "\n",
    "@hello\n",
    "def add(a, b):\n",
    "    print(a + b)\n",
    "\n",
    "add(2, 3)\n"
   ]
  },
  {
   "cell_type": "code",
   "execution_count": 13,
   "metadata": {},
   "outputs": [
    {
     "name": "stdout",
     "output_type": "stream",
     "text": [
      "HELLO\n"
     ]
    }
   ],
   "source": [
    "# Decorators\n",
    "\n",
    "# 1. A function that takes another function as an argument\n",
    "\n",
    "# 2. A function that returns another function\n",
    "def outer_function():\n",
    "    def inner_function():\n",
    "        # code for inner function\n",
    "        print(\"Hello\")\n",
    "    return inner_function\n",
    "\n",
    "def uppercase_decorator(func):\n",
    "    def wrapper():\n",
    "        result = func()\n",
    "        return result.upper()\n",
    "    return wrapper\n",
    "\n",
    "@uppercase_decorator\n",
    "def greet():\n",
    "    return \"hello\"\n",
    "\n",
    "print(greet())"
   ]
  },
  {
   "cell_type": "code",
   "execution_count": 14,
   "metadata": {},
   "outputs": [
    {
     "name": "stdout",
     "output_type": "stream",
     "text": [
      "7\n"
     ]
    }
   ],
   "source": [
    "# Lambda function\n",
    "\n",
    "add = lambda x, y: x + y\n",
    "result = add(3, 4)\n",
    "print(result)  # Output: 7"
   ]
  }
 ],
 "metadata": {
  "kernelspec": {
   "display_name": "Python 3",
   "language": "python",
   "name": "python3"
  },
  "language_info": {
   "codemirror_mode": {
    "name": "ipython",
    "version": 3
   },
   "file_extension": ".py",
   "mimetype": "text/x-python",
   "name": "python",
   "nbconvert_exporter": "python",
   "pygments_lexer": "ipython3",
   "version": "3.12.0"
  }
 },
 "nbformat": 4,
 "nbformat_minor": 2
}
